{
 "cells": [
  {
   "cell_type": "markdown",
   "id": "94142e52-58ba-4ae1-b90d-5737dbd33cce",
   "metadata": {},
   "source": [
    "$$we \\ have \\ y=f(x,\\theta),\\ so \\\n",
    "MSE=L(f(x_i,\\theta),y_i)\\\\\n",
    "梯度值\\nabla f=\\frac{\\partial L}{\\partial\\theta}\\\\\n",
    "梯度(做个平均)g=\\frac{1}{n}\\nabla_{\\theta}\\sum_{i=1}^{n} L(f(x_i,\\theta),y_i)\\\\\n",
    "\\theta_{n+1}=\\theta_n-\\underbrace{\\xi}_{学习率} g\n",
    "\n",
    "\n",
    "\n",
    "$$"
   ]
  },
  {
   "cell_type": "markdown",
   "id": "a6b8e0c9",
   "metadata": {},
   "source": [
    "$$\n",
    "GD:g=\\frac{1}{n}\\nabla_{\\theta}\\sum_{i=1}^{n} L(f(x_i,\\theta),y_i) \\\\\n",
    "\\theta=\\theta-\\xi g\n",
    "$$\n"
   ]
  },
  {
   "cell_type": "markdown",
   "id": "b354c071",
   "metadata": {},
   "source": [
    "$$\n",
    "MGD:g=\\frac{1}{n}\\nabla_{\\theta}\\sum_{i=1}^{n} L(f(x_i,\\theta),y_i) \\\\\n",
    "\\color{yellow}{v}\\color{white}=\\color{yellow}av\\color{white}-\\xi g\\ ,\\ a \\ can \\ control \\ moment\\\\\n",
    "\\theta=\\theta+v\n",
    "$$"
   ]
  },
  {
   "cell_type": "markdown",
   "id": "0a1267b4",
   "metadata": {},
   "source": [
    "$$\n",
    "AdaGrad:g=\\frac{1}{n}\\nabla_{\\theta}\\sum_{i=1}^{n} L(f(x_i,\\theta),y_i) \\\\\n",
    "\\color{yellow}{r}=r+ g^2\\ \\\\\\color{white}\n",
    "\\theta=\\theta-\\frac{\\xi}{\\sqrt{r}+\\delta}\n",
    "$$"
   ]
  },
  {
   "cell_type": "markdown",
   "id": "f0087712",
   "metadata": {},
   "source": [
    "$$\n",
    "Adam:g=\\frac{1}{n}\\nabla_{\\theta}\\sum_{i=1}^{n} L(f(x_i,\\theta),y_i)\\\\\n",
    "\\color{yellow}{s}=p_1 s+ (1-p_1)g \\\\\n",
    "r=p_2 r+(1-p_2)g^2\\\\\n",
    "\\hat s=\\frac{s}{1-p_1^t}\\\\\n",
    ",\\\\\n",
    "\\hat r=\\frac{r}{1-p_2^t}\\\\ \n",
    ",\\\\\n",
    "\\color{white}\\theta=\\theta-\\frac{\\xi\\color{yellow}\\hat s}{\\sqrt{\\color{yellow}\\hat r}+\\delta}g\n",
    "$$"
   ]
  },
  {
   "cell_type": "markdown",
   "id": "ced6fec0",
   "metadata": {},
   "source": [
    "so, we can use self-adaptive learning rate or self-adaptive moment to improving the algorithm in terms of convergence."
   ]
  }
 ],
 "metadata": {
  "kernelspec": {
   "display_name": "Python 3 (ipykernel)",
   "language": "python",
   "name": "python3"
  },
  "language_info": {
   "codemirror_mode": {
    "name": "ipython",
    "version": 3
   },
   "file_extension": ".py",
   "mimetype": "text/x-python",
   "name": "python",
   "nbconvert_exporter": "python",
   "pygments_lexer": "ipython3",
   "version": "3.11.1"
  }
 },
 "nbformat": 4,
 "nbformat_minor": 5
}
