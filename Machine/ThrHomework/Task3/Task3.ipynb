{
 "cells": [
  {
   "cell_type": "markdown",
   "id": "94142e52-58ba-4ae1-b90d-5737dbd33cce",
   "metadata": {},
   "source": [
    "$$we \\ have \\ y=f(x,\\theta),\\ so \\\n",
    "MSE=L(f(x_i,\\theta),y_i)\\\\\n",
    "梯度值\\nabla f=\\frac{\\partial L}{\\partial\\theta}\\\\\n",
    "梯度(做个平均)g=\\frac{1}{n}\\nabla_{\\theta}\\sum_{i=1}^{n} L(f(x_i,\\theta),y_i)\\\\\n",
    "\\theta_{n+1}=\\theta_n-\\underbrace{\\xi}_{学习率} g\n",
    "\n",
    "\n",
    "\n",
    "$$"
   ]
  },
  {
   "cell_type": "code",
   "execution_count": null,
   "id": "0bfb6a96-6824-44f2-88bd-777ea80f9783",
   "metadata": {},
   "outputs": [],
   "source": []
  }
 ],
 "metadata": {
  "kernelspec": {
   "display_name": "Python 3 (ipykernel)",
   "language": "python",
   "name": "python3"
  },
  "language_info": {
   "codemirror_mode": {
    "name": "ipython",
    "version": 3
   },
   "file_extension": ".py",
   "mimetype": "text/x-python",
   "name": "python",
   "nbconvert_exporter": "python",
   "pygments_lexer": "ipython3",
   "version": "3.11.1"
  }
 },
 "nbformat": 4,
 "nbformat_minor": 5
}
