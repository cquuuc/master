{
 "cells": [
  {
   "cell_type": "code",
   "execution_count": 1,
   "id": "338d3b61",
   "metadata": {
    "ExecuteTime": {
     "end_time": "2023-09-30T00:55:56.334358200Z",
     "start_time": "2023-09-30T00:55:56.294435100Z"
    }
   },
   "outputs": [],
   "source": [
    "import numpy as np\n",
    "import numdifftools as nd\n",
    "import matplotlib.pyplot as plt\n",
    "import pandas as pd\n",
    "from sklearn.model_selection import train_test_split\n",
    "from sklearn.pipeline import make_pipeline\n",
    "from sklearn.preprocessing import PolynomialFeatures\n",
    "from sklearn.linear_model import LinearRegression"
   ]
  },
  {
   "cell_type": "markdown",
   "id": "846de5f5",
   "metadata": {},
   "source": [
    "# <font color = 'red'> LR 3. Regularization and linear regression. The simplest gradient descent. </font>"
   ]
  },
  {
   "cell_type": "markdown",
   "id": "5c9f72d2",
   "metadata": {},
   "source": [
    "## <font color = 'green'> 1. Regularization.  </font>"
   ]
  },
  {
   "cell_type": "markdown",
   "id": "17525728",
   "metadata": {},
   "source": [
    "**Regularization** is a method of adding some additional constraints to a condition in order to solve an ill-posed problem or prevent overfitting.\n",
    "\n",
    "The two most common types of regularization in linear regression are Ridge regularization (L2) and Lasso regularization (L1).\n",
    "\n",
    "In the case of linear regression, regularization involves imposing a penalty on the regression loss function according to the following formulas. All notations are in terms of the previous LR.\n",
    "\n",
    "$$ \\mathcal{L1}(\\overline{w}) = (\\overline{y} - Q\\cdot\\overline{w})^{T}(\\overline{y} - Q\\cdot\\overline{w}) + \\alpha||\\overline{w}||_{1}, $$\n",
    "$$ \\mathcal{L2}(\\overline{w}) = (\\overline{y} - Q\\cdot\\overline{w})^{T}(\\overline{y} - Q\\cdot\\overline{w}) + \\alpha||\\overline{w}||_{2}, $$\n",
    "\n",
    "Then the optimization problem is solved with respect to these loss functions.\n",
    "\n"
   ]
  },
  {
   "cell_type": "markdown",
   "id": "93a43162",
   "metadata": {},
   "source": [
    "  <font color = 'red' size = 5>Task 1 </font>\n",
    "\n",
    "1. Using the built-in functions of the sklearn package, implement small programs that model linear regression with L1 or L2 regularization on artificial data. Draw conclusions about the behavior of weight coefficients depending on a different number of features, including polynomial ones.\n",
    "2. How does regularization affect the quality metrics of models?\n",
    "3. What problems did you encounter when using the formula for calculating regression weights from LR2? Can they be solved by regularization? Using matrices, show an example of the algebraic meaning of regularization.\n",
    "4. Modify your own function for finding regression weights from LR2 so that it corresponds to the loss function L2 - regularization. The analytical solution to the optimization problem was obtained in the lecture. Compare the results of your function with the built-in one."
   ]
  },
  {
   "cell_type": "code",
   "execution_count": 2,
   "id": "bba826c029195a40",
   "metadata": {
    "ExecuteTime": {
     "end_time": "2023-09-30T00:39:16.875519800Z",
     "start_time": "2023-09-30T00:39:16.408199600Z"
    },
    "collapsed": false,
    "jupyter": {
     "outputs_hidden": false
    }
   },
   "outputs": [],
   "source": [
    "from sklearn.linear_model import Ridge\n",
    "from sklearn.linear_model import Lasso"
   ]
  },
  {
   "cell_type": "markdown",
   "id": "658e92e3",
   "metadata": {},
   "source": [
    "## <font color = 'green'> 2. Overfitting.</font>"
   ]
  },
  {
   "cell_type": "markdown",
   "id": "47f56cc8",
   "metadata": {},
   "source": [
    "**Overfitting** is a phenomenon when a constructed ML model explains examples from the training set well, but works relatively poorly on examples from the test set."
   ]
  },
  {
   "cell_type": "markdown",
   "id": "a70801eb",
   "metadata": {},
   "source": [
    "<font color = 'orange' size = 3>Example 1 </font>\n",
    "\n",
    "Consider the following example."
   ]
  },
  {
   "cell_type": "code",
   "execution_count": 15,
   "id": "d0105482",
   "metadata": {
    "ExecuteTime": {
     "end_time": "2023-09-30T00:56:00.334816500Z",
     "start_time": "2023-09-30T00:56:00.317833500Z"
    }
   },
   "outputs": [],
   "source": [
    "rng = np.random.RandomState(1) \n",
    "x = 10 * rng.rand(60)\n",
    "y = x**2/10 + 0.9 * rng.randn(60)"
   ]
  },
  {
   "cell_type": "code",
   "execution_count": 16,
   "id": "3df9cbaa",
   "metadata": {
    "ExecuteTime": {
     "end_time": "2023-09-30T00:56:02.235653200Z",
     "start_time": "2023-09-30T00:56:02.116676500Z"
    }
   },
   "outputs": [
    {
     "data": {
      "text/plain": [
       "<matplotlib.collections.PathCollection at 0x1d57fda4430>"
      ]
     },
     "execution_count": 16,
     "metadata": {},
     "output_type": "execute_result"
    },
    {
     "data": {
      "image/png": "[encoded data removed]",
      "text/plain": [
       "<Figure size 432x288 with 1 Axes>"
      ]
     },
     "metadata": {
      "needs_background": "light"
     },
     "output_type": "display_data"
    }
   ],
   "source": [
    "plt.scatter(x, y, c ='red',s=2)"
   ]
  },
  {
   "cell_type": "code",
   "execution_count": 17,
   "id": "f8c0aed8",
   "metadata": {
    "ExecuteTime": {
     "end_time": "2023-09-30T00:56:04.755554700Z",
     "start_time": "2023-09-30T00:56:04.637869500Z"
    },
    "scrolled": true
   },
   "outputs": [
    {
     "data": {
      "text/plain": [
       "<matplotlib.collections.PathCollection at 0x1d57fd87fd0>"
      ]
     },
     "execution_count": 17,
     "metadata": {},
     "output_type": "execute_result"
    },
    {
     "data": {
      "image/png": "[encoded data removed]",
      "text/plain": [
       "<Figure size 432x288 with 1 Axes>"
      ]
     },
     "metadata": {
      "needs_background": "light"
     },
     "output_type": "display_data"
    }
   ],
   "source": [
    "X_train, X_test, y_train, y_test = train_test_split(x[:, np.newaxis], y, test_size=0.27, random_state=42) \n",
    "plt.scatter(X_train, y_train, c='red', s=1)\n",
    "plt.scatter(X_test, y_test, c='blue', s=1)"
   ]
  },
  {
   "cell_type": "markdown",
   "id": "354bd2b762ce4bba",
   "metadata": {
    "collapsed": false,
    "jupyter": {
     "outputs_hidden": false
    }
   },
   "source": [
    "Based on observations from LR2, we can conclude that adding polynomial features (complicating the model) increases accuracy. Let's try to plot a graph showing the relationship between the R2 metric and the degree of polynomial features in the model. This parameter can be considered a hyperparameter of the model.\n",
    "\n",
    "**Hyperparameters** are external configuration variables that data scientists use to manage the training of the ML model. Hyperparameters (sometimes called model hyperparameters) are manually configured before training the model. By the way, the $\\alpha$ coefficients in regularization formulas are also hyperparameters.\n",
    "\n",
    "The graph of the hyperparameter's dependence on the model quality metric is called a **validation curve**."
   ]
  },
  {
   "cell_type": "code",
   "execution_count": 18,
   "id": "c6b1e6f2b04657e1",
   "metadata": {
    "ExecuteTime": {
     "end_time": "2023-09-30T00:56:06.897462600Z",
     "start_time": "2023-09-30T00:56:06.737888900Z"
    },
    "collapsed": false,
    "jupyter": {
     "outputs_hidden": false
    }
   },
   "outputs": [
    {
     "data": {
      "text/plain": [
       "<matplotlib.legend.Legend at 0x1d57fe55d00>"
      ]
     },
     "execution_count": 18,
     "metadata": {},
     "output_type": "execute_result"
    },
    {
     "data": {
      "image/png": "[encoded data removed]",
      "text/plain": [
       "<Figure size 432x288 with 1 Axes>"
      ]
     },
     "metadata": {
      "needs_background": "light"
     },
     "output_type": "display_data"
    }
   ],
   "source": [
    "degress = list(range(2, 13))\n",
    "scores_test = []\n",
    "scores_train = []\n",
    "for i in degress:\n",
    "    model = make_pipeline(PolynomialFeatures(degree=i),\n",
    "                          LinearRegression(fit_intercept=False))\n",
    "    model.fit(X_train, y_train)\n",
    "    scores_test.append(model.score(X_test, y_test))\n",
    "    scores_train.append(model.score(X_train, y_train))\n",
    "plt.plot(degress, scores_train, 'r-o')\n",
    "plt.plot(degress, scores_test, 'b-o')\n",
    "plt.legend(['Train', 'Test'])"
   ]
  },
  {
   "cell_type": "markdown",
   "id": "11ee509e5eff57cd",
   "metadata": {
    "collapsed": false,
    "jupyter": {
     "outputs_hidden": false
    }
   },
   "source": [
    "As we can see, with an increase in the number of polynomial features, we observe a drop in the quality of validation on test data, while with an increase in quality on training data, we observe classic overfitting."
   ]
  },
  {
   "cell_type": "markdown",
   "id": "7d3932f32c602573",
   "metadata": {
    "collapsed": false,
    "jupyter": {
     "outputs_hidden": false
    }
   },
   "source": [
    "<font color = 'red' size = 5>Task 2. </font>\n",
    "\n",
    "1. Model the overfitting of a linear regression model using artificial data.\n",
    "\n",
    "2. Try to avoid overfitting by maintaining the complexity of the model, which increases quality, using different regularization models. Practice selecting regularization strength coefficients."
   ]
  },
  {
   "cell_type": "markdown",
   "id": "3d8d5e9df6d0e952",
   "metadata": {
    "collapsed": false,
    "jupyter": {
     "outputs_hidden": false
    }
   },
   "source": [
    "## <font color = 'green'> 3. Gradient descent.</font>"
   ]
  },
  {
   "cell_type": "markdown",
   "id": "f220b0d50692adf0",
   "metadata": {
    "collapsed": false,
    "jupyter": {
     "outputs_hidden": false
    }
   },
   "source": [
    "In the previous LR we solved the optimization problem by finding an analytical solution in the form of a formula. The method is good, but not always possible due to the properties of functions and data. Let's try to arm ourselves with another method for solving model training problems."
   ]
  },
  {
   "cell_type": "markdown",
   "id": "4be2c687385e32fc",
   "metadata": {
    "collapsed": false,
    "jupyter": {
     "outputs_hidden": false
    }
   },
   "source": [
    "<font color = 'red' size = 5>Task 3. </font>\n",
    "\n",
    "1. Study the basic [gradient descent](https://en.wikipedia.org/wiki/Gradient_descent) algorithm using the link or lecture notes.\n",
    "\n",
    "2. Implement a simple gradient descent algorithm with a constant step to solve the problem of finding the minimum of some function of two variables. Graphically confirm your calculations (an example was shown in the lecture).\n",
    "\n",
    "3. Using gradient descent, implement your own learning function for any of the regressions studied earlier. Test it thoroughly. Will your algorithm always converge (produce the correct solution)? What parameters does the algorithm's operation depend on? Compare the obtained results with built-in functions.\n",
    "4. Think about improving the algorithm in terms of convergence."
   ]
  }
 ],
 "metadata": {
  "kernelspec": {
   "display_name": "Python 3",
   "language": "python",
   "name": "python3"
  },
  "language_info": {
   "codemirror_mode": {
    "name": "ipython",
    "version": 3
   },
   "file_extension": ".py",
   "mimetype": "text/x-python",
   "name": "python",
   "nbconvert_exporter": "python",
   "pygments_lexer": "ipython3",
   "version": "3.11.1"
  }
 },
 "nbformat": 4,
 "nbformat_minor": 5
}
