{
 "cells": [
  {
   "cell_type": "code",
   "execution_count": null,
   "id": "c0688b91",
   "metadata": {},
   "outputs": [],
   "source": [
    "import pandas as pd\n",
    "import numpy as np\n",
    "from sklearn.preprocessing import MinMaxScaler\n",
    "import seaborn as sns\n",
    "from matplotlib import pyplot as plt\n",
    "from sklearn.model_selection import train_test_split\n",
    "from sklearn.pipeline import make_pipeline\n",
    "from sklearn.preprocessing import StandardScaler\n",
    "from sklearn.preprocessing import PolynomialFeatures\n",
    "from sklearn.linear_model import LogisticRegression\n",
    "from sklearn.model_selection import GridSearchCV\n",
    "from sklearn.metrics import roc_auc_score, roc_curve"
   ]
  },
  {
   "cell_type": "markdown",
   "id": "50072746",
   "metadata": {},
   "source": [
    "# <font color = 'red'> Task4.Exploratory Data Analysis (EDA). Introduction to classification.  </font>"
   ]
  },
  {
   "cell_type": "markdown",
   "id": "b61b8275",
   "metadata": {},
   "source": [
    "## <font color = 'green'>1. Exploratory data analysis </font>"
   ]
  },
  {
   "cell_type": "markdown",
   "id": "ab218acc-9240-421e-8253-3991f608d5ab",
   "metadata": {},
   "source": [
    "### <font color = 'green'> Example 1: Data loading and initial analysis. Using the example of telecom.csv </font>"
   ]
  },
  {
   "cell_type": "code",
   "execution_count": null,
   "id": "8d477f85-cba3-4dd5-a74b-c96fad9eb821",
   "metadata": {
    "ExecuteTime": {
     "end_time": "2023-10-06T17:57:55.920053Z",
     "start_time": "2023-10-06T17:57:54.076738800Z"
    }
   },
   "outputs": [],
   "source": [
    "data = pd.read_csv('telecom.csv')"
   ]
  },
  {
   "cell_type": "code",
   "execution_count": null,
   "id": "312d5e92-7c4b-4220-a727-b61795657805",
   "metadata": {
    "ExecuteTime": {
     "end_time": "2023-10-06T17:57:55.921023900Z",
     "start_time": "2023-10-06T17:57:54.139391800Z"
    }
   },
   "outputs": [],
   "source": [
    "data.head()"
   ]
  },
  {
   "cell_type": "code",
   "execution_count": null,
   "id": "cf399b6f-4ad9-489b-983a-fb2c6d0bae41",
   "metadata": {
    "ExecuteTime": {
     "end_time": "2023-10-06T17:57:55.922021300Z",
     "start_time": "2023-10-06T17:57:54.192493100Z"
    }
   },
   "outputs": [],
   "source": [
    "print(data.info())"
   ]
  },
  {
   "cell_type": "code",
   "execution_count": null,
   "id": "d676a529-f874-4c4c-b514-13dded0a544e",
   "metadata": {
    "ExecuteTime": {
     "end_time": "2023-10-06T17:57:55.922021300Z",
     "start_time": "2023-10-06T17:57:54.201422100Z"
    }
   },
   "outputs": [],
   "source": [
    "data['Churn']=data['Churn'].astype('int64')"
   ]
  },
  {
   "cell_type": "code",
   "execution_count": null,
   "id": "57287fc0-413a-463c-af3f-c9dbe2e4447f",
   "metadata": {
    "ExecuteTime": {
     "end_time": "2023-10-06T17:57:55.922021300Z",
     "start_time": "2023-10-06T17:57:54.230345400Z"
    }
   },
   "outputs": [],
   "source": [
    "data.head()"
   ]
  },
  {
   "cell_type": "code",
   "execution_count": null,
   "id": "d2d7a49f-e03f-4562-b4cb-894ad20c8231",
   "metadata": {
    "ExecuteTime": {
     "end_time": "2023-10-06T17:57:55.923045700Z",
     "start_time": "2023-10-06T17:57:54.248297400Z"
    }
   },
   "outputs": [],
   "source": [
    "data.describe()"
   ]
  },
  {
   "cell_type": "code",
   "execution_count": null,
   "id": "ca22d56c-7a43-4c96-bc3b-0ce365cbe359",
   "metadata": {
    "ExecuteTime": {
     "end_time": "2023-10-06T17:57:55.924042200Z",
     "start_time": "2023-10-06T17:57:54.361631700Z"
    }
   },
   "outputs": [],
   "source": [
    "data.describe(include=['object', 'bool'])"
   ]
  },
  {
   "cell_type": "code",
   "execution_count": null,
   "id": "cf3e2f87-c012-4101-820f-cf8b48f925f1",
   "metadata": {
    "ExecuteTime": {
     "end_time": "2023-10-06T17:57:55.924042200Z",
     "start_time": "2023-10-06T17:57:54.373599800Z"
    }
   },
   "outputs": [],
   "source": [
    "data['Churn'].value_counts()"
   ]
  },
  {
   "cell_type": "code",
   "execution_count": null,
   "id": "41c34358-0150-47e8-8a03-7ebf6fe8eaab",
   "metadata": {
    "ExecuteTime": {
     "end_time": "2023-10-06T17:57:55.925014Z",
     "start_time": "2023-10-06T17:57:54.399531Z"
    }
   },
   "outputs": [],
   "source": [
    "data['Churn'].value_counts(normalize = True)"
   ]
  },
  {
   "cell_type": "code",
   "execution_count": null,
   "id": "54397939-ec20-4724-8e23-d6dfca55045f",
   "metadata": {
    "ExecuteTime": {
     "end_time": "2023-10-06T17:57:55.925014Z",
     "start_time": "2023-10-06T17:57:54.418479700Z"
    }
   },
   "outputs": [],
   "source": [
    "abons_stat = pd.Series(data[data['Churn'] == 1].mean(numeric_only=True),name='abons')\n",
    "disertirs_stat = pd.Series(data[data['Churn'] == 0].mean(numeric_only=True),name='disertirs')\n",
    "ratio = pd.Series(disertirs_stat/abons_stat,name = 'ratio')"
   ]
  },
  {
   "cell_type": "code",
   "execution_count": null,
   "id": "1868f7ce-ceba-407c-9c99-ce634ff53f58",
   "metadata": {
    "ExecuteTime": {
     "end_time": "2023-10-06T17:57:55.976755Z",
     "start_time": "2023-10-06T17:57:54.471358200Z"
    }
   },
   "outputs": [],
   "source": [
    "pd.concat([abons_stat,disertirs_stat,ratio],axis = 1).sort_values(by='ratio')"
   ]
  },
  {
   "cell_type": "code",
   "execution_count": null,
   "id": "2e464e4a-a520-42a5-8251-9eeba1f0cb65",
   "metadata": {
    "ExecuteTime": {
     "end_time": "2023-10-06T17:57:55.976755Z",
     "start_time": "2023-10-06T17:57:54.499283800Z"
    }
   },
   "outputs": [],
   "source": [
    "pd.crosstab(data['Churn'], data['International plan']) #для категориальных"
   ]
  },
  {
   "cell_type": "code",
   "execution_count": null,
   "id": "67fdba1b-6142-44f5-9835-5af8e6303147",
   "metadata": {
    "ExecuteTime": {
     "end_time": "2023-10-06T17:57:55.977752100Z",
     "start_time": "2023-10-06T17:57:54.515241Z"
    }
   },
   "outputs": [],
   "source": [
    "pd.crosstab(data['Churn'], data['Voice mail plan'],normalize=True)"
   ]
  },
  {
   "cell_type": "code",
   "execution_count": null,
   "id": "39de265d-df74-46f4-a081-d4c4b00a9390",
   "metadata": {
    "ExecuteTime": {
     "end_time": "2023-10-06T17:57:55.977752100Z",
     "start_time": "2023-10-06T17:57:54.528990400Z"
    }
   },
   "outputs": [],
   "source": [
    "pd.crosstab(data['Churn'], data['International plan'],margins=True)"
   ]
  },
  {
   "cell_type": "code",
   "execution_count": null,
   "id": "a17294e8-b635-4af8-a268-067647ffdde6",
   "metadata": {
    "ExecuteTime": {
     "end_time": "2023-10-06T17:57:55.978749500Z",
     "start_time": "2023-10-06T17:57:54.547958900Z"
    }
   },
   "outputs": [],
   "source": [
    "pd.crosstab(data['Churn'], data['Customer service calls'],margins=True)"
   ]
  },
  {
   "cell_type": "code",
   "execution_count": null,
   "id": "dc1310da-7114-4324-971d-f78fdf59a28c",
   "metadata": {
    "ExecuteTime": {
     "end_time": "2023-10-06T17:57:55.978749500Z",
     "start_time": "2023-10-06T17:57:54.561901200Z"
    }
   },
   "outputs": [],
   "source": [
    "sns.countplot(x='Customer service calls', hue='Churn', data=data);"
   ]
  },
  {
   "cell_type": "code",
   "execution_count": null,
   "id": "f68369a5-711e-44f4-8b42-8ac8bdbc7b84",
   "metadata": {
    "ExecuteTime": {
     "end_time": "2023-10-06T17:57:55.978749500Z",
     "start_time": "2023-10-06T17:57:54.576861700Z"
    }
   },
   "outputs": [],
   "source": [
    "data['Intensive_service_calls_Q'] = (data['Customer service calls'] > 3).astype('int')\n",
    "\n",
    "pd.crosstab(data['Intensive_service_calls_Q'], data['Churn'], margins=True)"
   ]
  },
  {
   "cell_type": "code",
   "execution_count": null,
   "id": "41c0ce8e-4b70-43f6-ad95-1d3610eddc65",
   "metadata": {
    "ExecuteTime": {
     "end_time": "2023-10-06T17:57:55.979746900Z",
     "start_time": "2023-10-06T17:57:54.611768500Z"
    }
   },
   "outputs": [],
   "source": [
    "sns.countplot(x='Intensive_service_calls_Q', hue='Churn', data=data);"
   ]
  },
  {
   "cell_type": "code",
   "execution_count": null,
   "id": "c7f89fd2-5bae-451a-81fa-07a91aa58add",
   "metadata": {
    "ExecuteTime": {
     "end_time": "2023-10-06T17:57:55.979746900Z",
     "start_time": "2023-10-06T17:57:54.657675100Z"
    }
   },
   "outputs": [],
   "source": [
    "d = {'No' : 0, 'Yes' : 1}\n",
    "data['International plan'] = data['International plan'].map(d)"
   ]
  },
  {
   "cell_type": "code",
   "execution_count": null,
   "id": "3c275190-5d58-499b-b9fa-85626b673952",
   "metadata": {},
   "outputs": [],
   "source": [
    "data.head()"
   ]
  },
  {
   "cell_type": "code",
   "execution_count": null,
   "id": "f521129e-27d9-4e73-b6dc-24183434007a",
   "metadata": {
    "ExecuteTime": {
     "end_time": "2023-10-06T17:57:55.980744200Z",
     "start_time": "2023-10-06T17:57:54.876115900Z"
    }
   },
   "outputs": [],
   "source": [
    "data['Voice mail plan'] = data['Voice mail plan'].map(d)"
   ]
  },
  {
   "cell_type": "code",
   "execution_count": null,
   "id": "e762fddc-2cf6-42d3-be0f-da2c36fc290c",
   "metadata": {},
   "outputs": [],
   "source": [
    "data.head()"
   ]
  },
  {
   "cell_type": "code",
   "execution_count": null,
   "id": "bcb15cad-f085-4674-931e-5495d419df6e",
   "metadata": {
    "ExecuteTime": {
     "end_time": "2023-10-06T17:57:55.980744200Z",
     "start_time": "2023-10-06T17:57:54.906011500Z"
    }
   },
   "outputs": [],
   "source": [
    "pd.crosstab(data['Intensive_service_calls_Q'] & data['International plan'] , data['Churn'])"
   ]
  },
  {
   "cell_type": "markdown",
   "id": "911dda22-aea4-4feb-8cc0-137e91be9fdc",
   "metadata": {},
   "source": [
    "### <font color = 'green'> Example 2: Correlation. Using the example of telecom.csv </font>"
   ]
  },
  {
   "cell_type": "code",
   "execution_count": null,
   "id": "7e3472dd-af58-474c-9b92-33df27025e31",
   "metadata": {},
   "outputs": [],
   "source": [
    "corr_matrix = data.drop(['State', 'International plan', 'Voice mail plan',\n",
    "                      'Area code'], axis=1).corr() #we leave only quantitative features"
   ]
  },
  {
   "cell_type": "code",
   "execution_count": null,
   "id": "c2ac3e4b-9f81-494a-a595-18a2415385b6",
   "metadata": {},
   "outputs": [],
   "source": [
    "corr_matrix"
   ]
  },
  {
   "cell_type": "code",
   "execution_count": null,
   "id": "06726eae-8b92-4887-921a-94382f3232dc",
   "metadata": {},
   "outputs": [],
   "source": [
    "sns.heatmap(corr_matrix,cmap=\"crest\");"
   ]
  },
  {
   "cell_type": "markdown",
   "id": "e7658fa4-e1fd-4a6c-822a-a2fdfea81dd2",
   "metadata": {},
   "source": [
    "### <font color = 'green'> Example 3. Graphical data analysis. Using telecom.csv as an example </font>"
   ]
  },
  {
   "cell_type": "code",
   "execution_count": null,
   "id": "5e1533da-3a2a-4167-af55-3088a1b8c334",
   "metadata": {},
   "outputs": [],
   "source": [
    "features = list(set(data.columns) - set(['State', 'International plan', 'Voice mail plan',  'Area code',\n",
    "                                      'Total day charge',   'Total eve charge',   'Total night charge',\n",
    "                                        'Total intl charge', 'Churn','Intensive_service_calls_Q','Phone number']))\n",
    "data[features].hist(figsize=(20,12));"
   ]
  },
  {
   "cell_type": "code",
   "execution_count": null,
   "id": "b120f551-ab4d-4587-843f-9169ff56866b",
   "metadata": {},
   "outputs": [],
   "source": [
    "sns.pairplot(data[['Customer service calls','Total day minutes','Total day charge','Total night calls','Churn',]], hue='Churn');"
   ]
  },
  {
   "cell_type": "markdown",
   "id": "f926195a-165e-4a63-8e57-d463386d9399",
   "metadata": {},
   "source": [
    "### <font color = 'green'> Example 4. Graphical data analysis. Using the example of Fischer's Irises</font>"
   ]
  },
  {
   "cell_type": "code",
   "execution_count": null,
   "id": "49644915-9f7d-4e2b-bc8c-b3da2b2ac6d0",
   "metadata": {},
   "outputs": [],
   "source": [
    "iris = sns.load_dataset('iris')\n"
   ]
  },
  {
   "cell_type": "code",
   "execution_count": null,
   "id": "bd0460a1-11ab-48ed-9e17-ea0cc5e1ad16",
   "metadata": {},
   "outputs": [],
   "source": [
    "iris.head()"
   ]
  },
  {
   "cell_type": "code",
   "execution_count": null,
   "id": "45f3b4bd-ce3f-4a32-994c-543357d36b84",
   "metadata": {},
   "outputs": [],
   "source": [
    "sns.pairplot(iris, hue='species',height=1.5);\n",
    "plt.show();"
   ]
  },
  {
   "cell_type": "code",
   "execution_count": null,
   "id": "67ff8e80-9803-4e11-82e4-aad3f8951356",
   "metadata": {},
   "outputs": [],
   "source": [
    "features = list(set(iris.columns)-set(['species']))"
   ]
  },
  {
   "cell_type": "code",
   "execution_count": null,
   "id": "8efdbd40-0eee-4897-9539-f1520d2d4a0e",
   "metadata": {},
   "outputs": [],
   "source": [
    "features"
   ]
  },
  {
   "cell_type": "code",
   "execution_count": null,
   "id": "2ed54e24-53d9-4ef0-b1b2-b9b25cf6eb0d",
   "metadata": {},
   "outputs": [],
   "source": [
    "fig, axes = plt.subplots(nrows=2, ncols=2, figsize=(7, 4))\n",
    "\n",
    "for idx, feat in  enumerate(features):\n",
    "    sns.boxplot(x='species', y = feat, data = iris, ax=axes[idx // 2, idx % 2],hue='species')\n",
    "    axes[idx // 2, idx % 2].set_xlabel('species')\n",
    "    axes[idx // 2, idx % 2].set_ylabel(feat);\n",
    "plt.show();"
   ]
  },
  {
   "cell_type": "code",
   "execution_count": null,
   "id": "1aee8577-1a05-402b-b434-f7848964a11e",
   "metadata": {},
   "outputs": [],
   "source": [
    "sns.boxplot(x='species', y = 'sepal_length', data = iris,hue='species');\n",
    "plt.show();"
   ]
  },
  {
   "cell_type": "code",
   "execution_count": null,
   "id": "9359e8d2-2891-4764-8c22-64ba2da8ed2a",
   "metadata": {},
   "outputs": [],
   "source": [
    "iris[features].hist(figsize=(7,4));\n",
    "plt.show();"
   ]
  },
  {
   "cell_type": "markdown",
   "id": "01684626-7494-47f4-9e82-40a467fe528b",
   "metadata": {},
   "source": [
    " https://habr.com/ru/articles/248623/"
   ]
  },
  {
   "cell_type": "code",
   "execution_count": null,
   "id": "fee1a205-4036-44d6-b668-f571a4793990",
   "metadata": {},
   "outputs": [],
   "source": [
    "def andrews_curve(x,theta):\n",
    "  curve = list()\n",
    "  for th in theta:\n",
    "    x1 = x[0] / np.sqrt(2)\n",
    "    x2 = x[1] * np.sin(th)\n",
    "    x3 = x[2] * np.cos(th)\n",
    "    x4 = x[3] * np.sin(2.*th)\n",
    "    curve.append(x1+x2+x3+x4)\n",
    "  return curve\n",
    "\n",
    "accuracy = 1000\n",
    "samples = iris.drop(['species'],axis=1).values\n",
    "theta = np.linspace(-np.pi, np.pi, accuracy)\n",
    "\n",
    "for s in samples[:20]: # setosa\n",
    "  plt.plot(theta, andrews_curve(s, theta), 'r')\n",
    "\n",
    "for s in samples[50:70]: # versicolor\n",
    "  plt.plot(theta, andrews_curve(s ,theta), 'g')\n",
    "\n",
    "for s in samples[100:120]: # virginica\n",
    "  plt.plot(theta, andrews_curve(s, theta), 'b')\n",
    "\n",
    "plt.xlim(-np.pi,np.pi)\n",
    "plt.show()\n"
   ]
  },
  {
   "cell_type": "markdown",
   "id": "4de55f55",
   "metadata": {},
   "source": [
    "<font color = 'red' size = 5>Task 1 </font>\n",
    "\n",
    "1. Study examples of point work with features in the source data.\n",
    "\n",
    "2. After working with the documentation and examples, select and prepare features for the famous [titanik dataset](https://www.kaggle.com/c/titanic/data) , as well as for the [operators](https://www.kaggle.com/datasets/mnassrib/telecom-churn-datasets) data\n",
    "+ 2.1 Visualize the features. Determine their types.\n",
    "+ 2.2 Remove anomalous data where necessary (using the simplest z-score and IQR methods).\n",
    "+ 2.3 Identify important features using descriptive statistics and correlation.\n",
    "+ 2.4 Fill in the blanks and work with the data at your own discretion.\n",
    "+ 2.5 Save the prepared dataset to a new csv file.\n",
    "   \n",
    "        \n",
    "\n",
    "\n",
    "\n",
    "[https://scikit-learn.org/stable/modules/preprocessing.html](https://scikit-learn.org/stable/modules/preprocessing.html)\n"
   ]
  },
  {
   "cell_type": "markdown",
   "id": "c4302fa5-8c73-4bf0-829b-5b60d438b705",
   "metadata": {},
   "source": [
    "### <font color = 'green'> Example 5. Working with text </font>"
   ]
  },
  {
   "cell_type": "markdown",
   "id": "a245313f-e0ef-45d0-a1d9-3418dda045f0",
   "metadata": {},
   "source": [
    "####  bag of words"
   ]
  },
  {
   "cell_type": "code",
   "execution_count": null,
   "id": "a5802aec-962a-43b0-b26f-f8569d45acec",
   "metadata": {},
   "outputs": [],
   "source": [
    "from functools import reduce\n",
    "import numpy as np\n",
    "\n",
    "texts = [['i', 'love', 'my', 'mmf'],\n",
    "         ['he', 'hate', 'my', 'mmf'],\n",
    "         ['he', 'and', 'i', 'hate', 'and', 'love', 'my','mmf']]\n",
    "\n",
    "dictionary = list(enumerate(set(list(reduce(lambda x, y: x + y, texts)))))\n",
    "\n",
    "def vectorize(text):\n",
    "    vector = np.zeros(len(dictionary))\n",
    "    for i, word in dictionary:\n",
    "        num = 0\n",
    "        for w in text:\n",
    "            if w == word:\n",
    "                num += 1\n",
    "        if num:\n",
    "            vector[i] = num\n",
    "    return vector\n",
    "\n",
    "for t in texts:\n",
    "    print(vectorize(t))"
   ]
  },
  {
   "cell_type": "code",
   "execution_count": null,
   "id": "fb9c20f6-15f3-4de9-a843-4d3e4afb2768",
   "metadata": {},
   "outputs": [],
   "source": [
    "dictionary"
   ]
  },
  {
   "cell_type": "markdown",
   "id": "d16f1924-ff99-493e-a187-c56f8d7bfcc1",
   "metadata": {},
   "source": [
    "#### Bag of words с N-grams"
   ]
  },
  {
   "cell_type": "code",
   "execution_count": null,
   "id": "d754b215-52d6-4d5b-9768-fa6bafb47ec7",
   "metadata": {},
   "outputs": [],
   "source": [
    "from sklearn.feature_extraction.text import CountVectorizer\n",
    "\n",
    "vect = CountVectorizer(ngram_range=(1, 1))\n",
    "vect.fit_transform([\"no i have questions\", \"i have no questions\"]).toarray()"
   ]
  },
  {
   "cell_type": "code",
   "execution_count": null,
   "id": "f7cfba7f-ee41-453a-a63a-4daf880fd17b",
   "metadata": {},
   "outputs": [],
   "source": [
    "vect.vocabulary_"
   ]
  },
  {
   "cell_type": "code",
   "execution_count": null,
   "id": "10841d9b-a626-4fe7-9567-2d0018cc65a9",
   "metadata": {},
   "outputs": [],
   "source": [
    "vect = CountVectorizer(ngram_range=(1, 2))\n",
    "vect.fit_transform([\"no i have questions\", \"i have no questions\"]).toarray()"
   ]
  },
  {
   "cell_type": "code",
   "execution_count": null,
   "id": "ff433c11-e861-4c50-945f-3dc79871f38d",
   "metadata": {},
   "outputs": [],
   "source": [
    "vect.vocabulary_"
   ]
  },
  {
   "cell_type": "markdown",
   "id": "546304d2-c570-40e7-8e1b-5247ffe7a4b3",
   "metadata": {},
   "source": [
    "#### TF- IDF"
   ]
  },
  {
   "cell_type": "code",
   "execution_count": null,
   "id": "86b0dfdf-4a3f-41da-82e4-46ed4bb6cfc7",
   "metadata": {},
   "outputs": [],
   "source": [
    "from sklearn.feature_extraction.text import TfidfVectorizer\n",
    "Document1= \"It is going to rain today.\"\n",
    "Document2= \"Today I am not going outside.\"\n",
    "Document3= \"I am going to watch the season premiere.\"\n",
    "Doc = [Document1 ,\n",
    "       Document2 , \n",
    "       Document3]\n",
    "print(Doc)"
   ]
  },
  {
   "cell_type": "code",
   "execution_count": null,
   "id": "06fd500a-b02b-4a23-abd0-129bb69969ba",
   "metadata": {},
   "outputs": [],
   "source": [
    "vectorizer = TfidfVectorizer()\n",
    "X = vectorizer.fit_transform(Doc)"
   ]
  },
  {
   "cell_type": "code",
   "execution_count": null,
   "id": "628c42ff-ae8c-44e4-a2a6-42b43aa750aa",
   "metadata": {},
   "outputs": [],
   "source": [
    "print('Document transform',X.toarray())"
   ]
  },
  {
   "cell_type": "code",
   "execution_count": null,
   "id": "d2334bae-7d33-42b4-8864-24d2288c0b23",
   "metadata": {},
   "outputs": [],
   "source": [
    "X.toarray()[0]"
   ]
  },
  {
   "cell_type": "code",
   "execution_count": null,
   "id": "fc9cc014-10a2-4e31-913e-7ae96c4c6fa2",
   "metadata": {},
   "outputs": [],
   "source": [
    "print(vectorizer.vocabulary_)"
   ]
  },
  {
   "cell_type": "markdown",
   "id": "fda3ceec-8a17-4ee5-aac0-b2db01f0c24a",
   "metadata": {},
   "source": [
    "<font color = 'red' size = 5>Task 2 </font>\n",
    "\n",
    "1. Study the example of working with a text dataset described above.\n",
    "\n",
    "2. Prepare a text dataset of movie reviews for further work. [Imdb - rews](https://www.kaggle.com/datasets/lakshmi25npathi/imdb-dataset-of-50k-movie-reviews) .\n",
    "+ 2.1 Using the built-in capabilities of *TfidfVectorizer*.\n",
    "+ 2.2 By implementing an analogue yourself.\n",
    "+ 2.3 Save the prepared dataset to a new csv file.\n",
    "\n",
    "[https://www.geeksforgeeks.org/understanding-tf-idf-term-frequency-inverse-document-frequency/](https://www.geeksforgeeks.org/understanding-tf-idf-term-frequency-inverse-document-frequency/)"
   ]
  },
  {
   "cell_type": "markdown",
   "id": "a56618ad",
   "metadata": {},
   "source": [
    "## <font color = 'green'> 2. Introduction to classification.</font>"
   ]
  },
  {
   "cell_type": "code",
   "execution_count": null,
   "id": "5ffa53e8",
   "metadata": {},
   "outputs": [],
   "source": [
    "X_data = np.random.randint(0,40,(300,2))\n",
    "rows = np.where(X_data[:,0]!=X_data[:,1])\n",
    "X_data = X_data[rows]\n",
    "y_data = np.array([int(np.sign(elem[0]-elem[1])==1) for elem in X_data])\n",
    "\n",
    "plt.scatter(X_data[:,0],X_data[:,1],c = y_data);\n",
    "\n",
    "inner_model = LogisticRegression(penalty=None)\n",
    "inner_model.fit(X_data, y_data)\n",
    "\n",
    "inner_preds = inner_model.predict(X_data)\n",
    "inner_preds_pr = inner_model.predict_proba(X_data)\n",
    " # accuracy\n",
    "(inner_preds == y_data).mean()\n",
    "\n",
    "inner_preds_pr\n",
    "\n",
    "print(inner_model.coef_)\n",
    "\n",
    "inner_model.intercept_"
   ]
  },
  {
   "cell_type": "markdown",
   "id": "f7a649cc",
   "metadata": {},
   "source": [
    "<font color = 'red' size = 5>Task 3 </font>\n",
    "\n",
    "Using built-in *python* capabilities, implement a simple classifier model for the data from Sec. 1 and Sec. 2. Draw conclusions about the accuracy using the *accurancy_score* metric.\n"
   ]
  }
 ],
 "metadata": {
  "kernelspec": {
   "display_name": "Python 3 (ipykernel)",
   "language": "python",
   "name": "python3"
  },
  "language_info": {
   "codemirror_mode": {
    "name": "ipython",
    "version": 3
   },
   "file_extension": ".py",
   "mimetype": "text/x-python",
   "name": "python",
   "nbconvert_exporter": "python",
   "pygments_lexer": "ipython3",
   "version": "3.12.4"
  }
 },
 "nbformat": 4,
 "nbformat_minor": 5
}
