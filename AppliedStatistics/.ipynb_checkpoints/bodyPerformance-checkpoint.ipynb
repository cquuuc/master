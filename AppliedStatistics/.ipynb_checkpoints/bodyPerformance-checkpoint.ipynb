{
 "cells": [
  {
   "cell_type": "code",
   "execution_count": 4,
   "id": "ce69c993-1b91-4d77-b60f-ffd4b0b35698",
   "metadata": {},
   "outputs": [],
   "source": [
    "import numpy as np\n",
    "import matplotlib.pyplot as plt\n",
    "import seaborn as sns\n",
    "import pandas as pd\n",
    "\n",
    "\n",
    "df = pd.read_csv(\"bodyPerformance.csv\")"
   ]
  },
  {
   "cell_type": "code",
   "execution_count": 5,
   "id": "b3ef1d3c-7422-4f9d-bdcf-c914eb99a114",
   "metadata": {},
   "outputs": [
    {
     "data": {
      "text/html": [
       "<div>\n",
       "<style scoped>\n",
       "    .dataframe tbody tr th:only-of-type {\n",
       "        vertical-align: middle;\n",
       "    }\n",
       "\n",
       "    .dataframe tbody tr th {\n",
       "        vertical-align: top;\n",
       "    }\n",
       "\n",
       "    .dataframe thead th {\n",
       "        text-align: right;\n",
       "    }\n",
       "</style>\n",
       "<table border=\"1\" class=\"dataframe\">\n",
       "  <thead>\n",
       "    <tr style=\"text-align: right;\">\n",
       "      <th></th>\n",
       "      <th>age</th>\n",
       "      <th>gender</th>\n",
       "      <th>height_cm</th>\n",
       "      <th>weight_kg</th>\n",
       "      <th>body fat_%</th>\n",
       "      <th>diastolic</th>\n",
       "      <th>systolic</th>\n",
       "      <th>gripForce</th>\n",
       "      <th>sit and bend forward_cm</th>\n",
       "      <th>sit-ups counts</th>\n",
       "      <th>broad jump_cm</th>\n",
       "      <th>class</th>\n",
       "    </tr>\n",
       "  </thead>\n",
       "  <tbody>\n",
       "    <tr>\n",
       "      <th>0</th>\n",
       "      <td>27.0</td>\n",
       "      <td>M</td>\n",
       "      <td>172.3</td>\n",
       "      <td>75.24</td>\n",
       "      <td>21.3</td>\n",
       "      <td>80.0</td>\n",
       "      <td>130.0</td>\n",
       "      <td>54.9</td>\n",
       "      <td>18.4</td>\n",
       "      <td>60.0</td>\n",
       "      <td>217.0</td>\n",
       "      <td>C</td>\n",
       "    </tr>\n",
       "    <tr>\n",
       "      <th>1</th>\n",
       "      <td>25.0</td>\n",
       "      <td>M</td>\n",
       "      <td>165.0</td>\n",
       "      <td>55.80</td>\n",
       "      <td>15.7</td>\n",
       "      <td>77.0</td>\n",
       "      <td>126.0</td>\n",
       "      <td>36.4</td>\n",
       "      <td>16.3</td>\n",
       "      <td>53.0</td>\n",
       "      <td>229.0</td>\n",
       "      <td>A</td>\n",
       "    </tr>\n",
       "    <tr>\n",
       "      <th>2</th>\n",
       "      <td>31.0</td>\n",
       "      <td>M</td>\n",
       "      <td>179.6</td>\n",
       "      <td>78.00</td>\n",
       "      <td>20.1</td>\n",
       "      <td>92.0</td>\n",
       "      <td>152.0</td>\n",
       "      <td>44.8</td>\n",
       "      <td>12.0</td>\n",
       "      <td>49.0</td>\n",
       "      <td>181.0</td>\n",
       "      <td>C</td>\n",
       "    </tr>\n",
       "    <tr>\n",
       "      <th>3</th>\n",
       "      <td>32.0</td>\n",
       "      <td>M</td>\n",
       "      <td>174.5</td>\n",
       "      <td>71.10</td>\n",
       "      <td>18.4</td>\n",
       "      <td>76.0</td>\n",
       "      <td>147.0</td>\n",
       "      <td>41.4</td>\n",
       "      <td>15.2</td>\n",
       "      <td>53.0</td>\n",
       "      <td>219.0</td>\n",
       "      <td>B</td>\n",
       "    </tr>\n",
       "    <tr>\n",
       "      <th>4</th>\n",
       "      <td>28.0</td>\n",
       "      <td>M</td>\n",
       "      <td>173.8</td>\n",
       "      <td>67.70</td>\n",
       "      <td>17.1</td>\n",
       "      <td>70.0</td>\n",
       "      <td>127.0</td>\n",
       "      <td>43.5</td>\n",
       "      <td>27.1</td>\n",
       "      <td>45.0</td>\n",
       "      <td>217.0</td>\n",
       "      <td>B</td>\n",
       "    </tr>\n",
       "  </tbody>\n",
       "</table>\n",
       "</div>"
      ],
      "text/plain": [
       "    age gender  height_cm  weight_kg  body fat_%  diastolic  systolic  \\\n",
       "0  27.0      M      172.3      75.24        21.3       80.0     130.0   \n",
       "1  25.0      M      165.0      55.80        15.7       77.0     126.0   \n",
       "2  31.0      M      179.6      78.00        20.1       92.0     152.0   \n",
       "3  32.0      M      174.5      71.10        18.4       76.0     147.0   \n",
       "4  28.0      M      173.8      67.70        17.1       70.0     127.0   \n",
       "\n",
       "   gripForce  sit and bend forward_cm  sit-ups counts  broad jump_cm class  \n",
       "0       54.9                     18.4            60.0          217.0     C  \n",
       "1       36.4                     16.3            53.0          229.0     A  \n",
       "2       44.8                     12.0            49.0          181.0     C  \n",
       "3       41.4                     15.2            53.0          219.0     B  \n",
       "4       43.5                     27.1            45.0          217.0     B  "
      ]
     },
     "execution_count": 5,
     "metadata": {},
     "output_type": "execute_result"
    }
   ],
   "source": [
    "df.head()"
   ]
  },
  {
   "cell_type": "code",
   "execution_count": 6,
   "id": "46d34fc5-fcaf-4b2c-b078-e48196405c3d",
   "metadata": {},
   "outputs": [
    {
     "data": {
      "text/plain": [
       "32.0"
      ]
     },
     "execution_count": 6,
     "metadata": {},
     "output_type": "execute_result"
    }
   ],
   "source": [
    "df[\"age\"].sum()/df[\"age\"].count()\n",
    "df[\"age\"].median()"
   ]
  },
  {
   "cell_type": "code",
   "execution_count": 10,
   "id": "c449a9b1-6841-4d02-b6ce-57ec74654faa",
   "metadata": {},
   "outputs": [
    {
     "data": {
      "text/plain": [
       "<Axes: xlabel='age', ylabel='Count'>"
      ]
     },
     "execution_count": 10,
     "metadata": {},
     "output_type": "execute_result"
    },
    {
     "data": {
      "image/png": "[encoded data removed]",
      "text/plain": [
       "<Figure size 640x480 with 1 Axes>"
      ]
     },
     "metadata": {},
     "output_type": "display_data"
    }
   ],
   "source": [
    "data=df[\"age\"]\n",
    "# 设置绘图风格\n",
    "sns.set(style=\"whitegrid\")\n",
    "\n",
    "# 绘制直方图\n",
    "sns.histplot(data, bins=30, kde=False, color='blue', alpha=0.6, label='直方图')\n"
   ]
  },
  {
   "cell_type": "code",
   "execution_count": 8,
   "id": "1c99110e-476c-431e-8ba8-33f6ca2cfad0",
   "metadata": {},
   "outputs": [
    {
     "data": {
      "text/plain": [
       "<Axes: xlabel='age', ylabel='Density'>"
      ]
     },
     "execution_count": 8,
     "metadata": {},
     "output_type": "execute_result"
    },
    {
     "data": {
      "image/png": "[encoded data removed]",
      "text/plain": [
       "<Figure size 640x480 with 1 Axes>"
      ]
     },
     "metadata": {},
     "output_type": "display_data"
    }
   ],
   "source": [
    "\n",
    "# 绘制核密度估计曲线\n",
    "sns.kdeplot(data, color='red', linewidth=2, label='核密度估计')"
   ]
  },
  {
   "cell_type": "markdown",
   "id": "a057dd16-bdce-4c79-b320-24a1a9825f4e",
   "metadata": {},
   "source": [
    "> ###Bootstrap Standard"
   ]
  },
  {
   "cell_type": "code",
   "execution_count": 25,
   "id": "89eda53c-1d42-49bc-836a-0fefd47b4aa8",
   "metadata": {},
   "outputs": [
    {
     "name": "stdout",
     "output_type": "stream",
     "text": [
      "均值的95%置信区间: [36.53, 37.01]\n"
     ]
    },
    {
     "data": {
      "text/plain": [
       "0.11968096677884567"
      ]
     },
     "execution_count": 25,
     "metadata": {},
     "output_type": "execute_result"
    }
   ],
   "source": [
    "# Bootstrap函数\n",
    "# def bootstrap(data, num_samples, statistic, alpha):\n",
    "#     \"\"\"执行Bootstrap抽样并计算统计量的置信区间\"\"\"\n",
    "#     n = len(data)\n",
    "#     stats = np.zeros(num_samples)\n",
    "    \n",
    "#     for i in range(num_samples):\n",
    "#         sample = np.random.choice(data, size=n, replace=True)\n",
    "#         stats[i] = statistic(sample)\n",
    "    \n",
    "#     lower_bound = np.percentile(stats, 100 * (alpha / 2))\n",
    "#     upper_bound = np.percentile(stats, 100 * (1 - alpha / 2))\n",
    "    \n",
    "#     return lower_bound, upper_bound, stats\n",
    "# # 定义要计算的统计量，这里以均值为例\n",
    "# def mean_statistic(data):\n",
    "#     return np.mean(data)\n",
    "\n",
    "# # 设置Bootstrap参数\n",
    "# num_samples = 1000  # Bootstrap样本数量\n",
    "# alpha = 0.05  # 置信水平\n",
    "# # 计算Bootstrap置信区间\n",
    "# lower_bound, upper_bound, bootstrap_stats = bootstrap(data, num_samples, mean_statistic, alpha)\n",
    "# # 输出结果\n",
    "# print(f\"均值的95%置信区间: [{lower_bound:.2f}, {upper_bound:.2f}]\")\n",
    "# bootstrap_stats.std()"
   ]
  },
  {
   "cell_type": "code",
   "execution_count": 32,
   "id": "c1c00194-c715-4765-b3e7-eda5dbb85fb7",
   "metadata": {},
   "outputs": [],
   "source": [
    "mu_hat=df[df['gender']=='M'] ['height_cm'].mean()\n",
    "sigma_hat=df[df['gender']=='M'] ['height_cm'].std()"
   ]
  },
  {
   "cell_type": "code",
   "execution_count": 31,
   "id": "618b4481-ae68-4d67-b5e6-ca0b50c9e595",
   "metadata": {},
   "outputs": [
    {
     "data": {
      "text/plain": [
       "array([ 1955.13010267, -1257.10778322])"
      ]
     },
     "execution_count": 31,
     "metadata": {},
     "output_type": "execute_result"
    }
   ],
   "source": [
    "np.random.normal((mu_hat,sigma_hat),(1000))"
   ]
  },
  {
   "cell_type": "code",
   "execution_count": null,
   "id": "d4fd7c91-a802-40c8-8ef1-9056ddfba166",
   "metadata": {},
   "outputs": [],
   "source": []
  },
  {
   "cell_type": "code",
   "execution_count": null,
   "id": "b318c6dd-d966-413c-888c-ad9e94a14ad8",
   "metadata": {},
   "outputs": [],
   "source": []
  }
 ],
 "metadata": {
  "kernelspec": {
   "display_name": "Python 3 (ipykernel)",
   "language": "python",
   "name": "python3"
  },
  "language_info": {
   "codemirror_mode": {
    "name": "ipython",
    "version": 3
   },
   "file_extension": ".py",
   "mimetype": "text/x-python",
   "name": "python",
   "nbconvert_exporter": "python",
   "pygments_lexer": "ipython3",
   "version": "3.11.1"
  }
 },
 "nbformat": 4,
 "nbformat_minor": 5
}
