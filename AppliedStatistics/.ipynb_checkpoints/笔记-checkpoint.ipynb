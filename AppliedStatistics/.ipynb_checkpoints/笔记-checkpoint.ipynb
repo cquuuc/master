{
 "cells": [
  {
   "cell_type": "markdown",
   "id": "431d7391-6188-458c-b35f-0dd7986f2ce3",
   "metadata": {},
   "source": [
    "$\\theta=\\barx -\\frac{1}{\\lambda} $\n",
    "$\\lambda=\\frac{2}{\\frac{1}{n} \\cdot \\sum_{i=1}^n {x_i}^2 -\\theta^2-2 \\cdot \\theta } $"
   ]
  },
  {
   "cell_type": "code",
   "execution_count": null,
   "id": "82e10338-4794-4724-858d-75a6f262410f",
   "metadata": {},
   "outputs": [],
   "source": [
    "$$\n",
    "\t\t\t\t\t\n",
    "\t\t\t\t\n",
    "\t\t\t\t\n",
    "\t\t\t\tx 已知\\ \\begin{array}{c|lcr}    y & \\text{0} & \\text{1} \\\\    \\hline    P & \\frac{1}{2} & \\frac{1}{2}\\\\\\end{array},\\ n=1000,X=y_1+……+y_{1000}\\\\求E(X),D(X),\\sigma(X)\\\\解:已知E(y)=\\frac{1}{2}\\\\D(y)=E(y^2)-(E(y)^2)=\\frac{1}{2} \\cdot0^2+\\frac{1}{2}\\cdot1^2-(\\frac{1}{2})^2=\\frac{1}{4}\\\\所以E(X)=1000\\cdot\\frac{1}{2}=500\\\\D(X)=1000\\cdot\\frac{1}{4}=250\\\\\\sigma(X)=\\sqrt{D(X)}=\\sqrt{250}\\approx\\sqrt{256}=16\\\\且一般情况下满足标准正态分布\\implies\\frac{X-E(X)}{\\sigma(X)}\\backsim N(0,1)\\\\同理普通正态分布为X \\backsim N(\\mu,\\sigma^2),P(X)=\\frac{1}{\\sqrt{2\\pi}\\cdot\\sigma}\\cdot e^{-\\frac{(x-\\mu)^2}{2\\cdot\\sigma^2}}\\\\若令Z=\\frac{X-E(X)}{\\sigma(X)}\\implies Z \\backsim N(0,1),P(Z)=\\frac{1}{\\sqrt{2\\pi}}\\cdot e^{-\\frac{x^2}{2}}\\\\那么P(Z\\leq0.7)=\\int_0^{0.7}P(Z)=\\int_0^{0.7}\\frac{1}{\\sqrt{2\\pi}}\\cdot e^{-\\frac{x^2}{2}}\\cdot dx \\\\这样计算过于麻烦，于是引入了标准正态的一个概率分布函数CDF\\\\\\phi(a)=P(Z\\leq a)\\\\ \\phi(a)=\\int_{-\\infty}^{a}\\frac{1}{\\sqrt{2\\pi}}\\cdot e^{-\\frac{x^2}{2}}\\cdot dx \\\\ \\phi_0(a)=\\int_{0}^{a}\\frac{1}{\\sqrt{2\\pi}}\\cdot e^{-\\frac{x^2}{2}}\\cdot dx \\\\例如：要求P(x>\\xi)=P(\\frac{x-500}{16}>\\frac{\\xi-500}{16})\\\\P(x>500)=P(\\frac{x-500}{16}>\\frac{500-500}{16})=P(Z>0)=1-\\phi(0)\\\\P(x>530)=P(\\frac{x-530}{16}>\\frac{530-500}{16})=P(Z>\\frac{30}{16})=1-\\phi(\\frac{30}{16})\\\\P(x>550)=P(\\frac{x-550}{16}>\\frac{550-500}{16})=P(Z>\\frac{50}{16})=1-\\phi(\\frac{50}{16})\n",
    "\t\t\t\t$$"
   ]
  }
 ],
 "metadata": {
  "kernelspec": {
   "display_name": "Python 3 (ipykernel)",
   "language": "python",
   "name": "python3"
  },
  "language_info": {
   "codemirror_mode": {
    "name": "ipython",
    "version": 3
   },
   "file_extension": ".py",
   "mimetype": "text/x-python",
   "name": "python",
   "nbconvert_exporter": "python",
   "pygments_lexer": "ipython3",
   "version": "3.11.1"
  }
 },
 "nbformat": 4,
 "nbformat_minor": 5
}
